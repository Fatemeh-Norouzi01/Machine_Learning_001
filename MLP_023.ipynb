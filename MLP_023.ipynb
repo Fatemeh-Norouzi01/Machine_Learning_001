{
 "cells": [
  {
   "cell_type": "code",
   "execution_count": 1,
   "id": "b258d84d-e96d-4854-bbff-127fd475fcae",
   "metadata": {},
   "outputs": [],
   "source": [
    "import numpy as np\n",
    "import matplotlib.pyplot as plt"
   ]
  },
  {
   "cell_type": "code",
   "execution_count": 2,
   "id": "690bf589-d64c-4ed1-9b20-06a32d3b9697",
   "metadata": {},
   "outputs": [],
   "source": [
    "npoints = 50\n",
    "X, Y = [], []"
   ]
  },
  {
   "cell_type": "code",
   "execution_count": 3,
   "id": "7c8be415-b367-44d2-a2f6-5ff8f7747ab3",
   "metadata": {},
   "outputs": [],
   "source": [
    "#class0\n",
    "X.append(np.random.uniform(low = -2.5, high = 2.3, size = (npoints, )))\n",
    "Y.append(np.random.uniform(low = -1.7, high = 2.8, size = (npoints, )))"
   ]
  },
  {
   "cell_type": "code",
   "execution_count": 4,
   "id": "803555eb-bcdb-4c65-98f7-d453c5a3f5c3",
   "metadata": {},
   "outputs": [],
   "source": [
    "#class1\n",
    "X.append(np.random.uniform(low = -7.2, high = -4.4, size = (npoints, )))\n",
    "Y.append(np.random.uniform(low = 3, high = 6.5, size = (npoints, )))"
   ]
  },
  {
   "cell_type": "code",
   "execution_count": 5,
   "id": "4b8f3199-131d-44a2-be6b-ece1697895f3",
   "metadata": {},
   "outputs": [],
   "source": [
    "learnset = []\n",
    "learnlabels = []"
   ]
  },
  {
   "cell_type": "code",
   "execution_count": 6,
   "id": "59be93d6-158e-4102-8152-e7736275d039",
   "metadata": {},
   "outputs": [
    {
     "data": {
      "image/png": "[encoded data removed]",
      "text/plain": [
       "<Figure size 640x480 with 1 Axes>"
      ]
     },
     "metadata": {},
     "output_type": "display_data"
    }
   ],
   "source": [
    "for i in range(2):\n",
    "    points = zip(X[i], Y[i])\n",
    "\n",
    "    for p in points:\n",
    "        learnset.append(p)\n",
    "        learnlabels.append(i)\n",
    "\n",
    "npoints_test = 3*npoints\n",
    "\n",
    "TestX = np.random.uniform(low = -7.2, high = 5, size = (npoints_test, ))\n",
    "TestY = np.random.uniform(low = -4, high = 9, size = (npoints_test, ))\n",
    "\n",
    "test_set = []\n",
    "\n",
    "points = zip(TestX, TestY)\n",
    "\n",
    "for p in points:\n",
    "    test_set.append(p)\n",
    "\n",
    "colors = [\"b\", \"r\"]\n",
    "\n",
    "for i in range(2):\n",
    "    plt.scatter(X[i], Y[i], c = colors[i])\n",
    "\n",
    "plt.scatter(TestX, TestY, c = \"g\")\n",
    "plt.show()"
   ]
  },
  {
   "cell_type": "code",
   "execution_count": 7,
   "id": "a242a2c1-c49c-470c-8e02-3b544dca60ae",
   "metadata": {},
   "outputs": [],
   "source": [
    "from sklearn.neural_network import MLPClassifier"
   ]
  },
  {
   "cell_type": "code",
   "execution_count": 8,
   "id": "25748d9d-fc43-415c-81b2-53e1264c318d",
   "metadata": {},
   "outputs": [
    {
     "name": "stdout",
     "output_type": "stream",
     "text": [
      "Iteration 1, loss = 0.46278936\n",
      "Iteration 2, loss = 0.43693219\n",
      "Iteration 3, loss = 0.40342536\n",
      "Iteration 4, loss = 0.36741617\n",
      "Iteration 5, loss = 0.33380418\n",
      "Iteration 6, loss = 0.30288817\n",
      "Iteration 7, loss = 0.27516189\n",
      "Iteration 8, loss = 0.24858320\n",
      "Iteration 9, loss = 0.22331031\n",
      "Iteration 10, loss = 0.19981738\n",
      "Iteration 11, loss = 0.17846852\n",
      "Iteration 12, loss = 0.15925672\n",
      "Iteration 13, loss = 0.14213574\n",
      "Iteration 14, loss = 0.12696871\n",
      "Iteration 15, loss = 0.11358621\n",
      "Iteration 16, loss = 0.10181891\n",
      "Iteration 17, loss = 0.09148930\n",
      "Iteration 18, loss = 0.08244977\n",
      "Iteration 19, loss = 0.07455242\n",
      "Iteration 20, loss = 0.06765890\n",
      "Iteration 21, loss = 0.06164303\n",
      "Iteration 22, loss = 0.05638668\n",
      "Iteration 23, loss = 0.05178701\n",
      "Iteration 24, loss = 0.04775215\n",
      "Iteration 25, loss = 0.04420327\n",
      "Iteration 26, loss = 0.04107289\n",
      "Iteration 27, loss = 0.03830328\n",
      "Iteration 28, loss = 0.03584523\n",
      "Iteration 29, loss = 0.03367143\n",
      "Iteration 30, loss = 0.03172877\n",
      "Iteration 31, loss = 0.02998840\n",
      "Iteration 32, loss = 0.02842537\n",
      "Iteration 33, loss = 0.02701782\n",
      "Iteration 34, loss = 0.02574832\n",
      "Iteration 35, loss = 0.02459896\n",
      "Iteration 36, loss = 0.02355533\n",
      "Iteration 37, loss = 0.02260501\n",
      "Iteration 38, loss = 0.02173788\n",
      "Iteration 39, loss = 0.02094410\n",
      "Iteration 40, loss = 0.02021516\n",
      "Iteration 41, loss = 0.01954371\n",
      "Iteration 42, loss = 0.01892359\n",
      "Iteration 43, loss = 0.01835052\n",
      "Iteration 44, loss = 0.01781872\n",
      "Iteration 45, loss = 0.01732410\n",
      "Iteration 46, loss = 0.01686296\n",
      "Iteration 47, loss = 0.01643212\n",
      "Iteration 48, loss = 0.01602877\n",
      "Iteration 49, loss = 0.01565049\n",
      "Iteration 50, loss = 0.01529482\n",
      "Iteration 51, loss = 0.01495977\n",
      "Iteration 52, loss = 0.01464353\n",
      "Iteration 53, loss = 0.01434453\n",
      "Iteration 54, loss = 0.01406121\n",
      "Iteration 55, loss = 0.01379179\n",
      "Iteration 56, loss = 0.01353471\n",
      "Iteration 57, loss = 0.01328985\n",
      "Iteration 58, loss = 0.01305628\n",
      "Iteration 59, loss = 0.01283313\n",
      "Iteration 60, loss = 0.01261966\n",
      "Iteration 61, loss = 0.01241515\n",
      "Iteration 62, loss = 0.01221898\n",
      "Iteration 63, loss = 0.01203057\n",
      "Iteration 64, loss = 0.01184940\n",
      "Iteration 65, loss = 0.01167498\n",
      "Iteration 66, loss = 0.01150688\n",
      "Iteration 67, loss = 0.01134471\n",
      "Iteration 68, loss = 0.01118809\n",
      "Iteration 69, loss = 0.01103672\n",
      "Iteration 70, loss = 0.01089000\n",
      "Iteration 71, loss = 0.01074788\n",
      "Iteration 72, loss = 0.01061061\n",
      "Iteration 73, loss = 0.01047729\n",
      "Iteration 74, loss = 0.01034776\n",
      "Iteration 75, loss = 0.01022186\n",
      "Iteration 76, loss = 0.01009932\n",
      "Iteration 77, loss = 0.00997927\n",
      "Iteration 78, loss = 0.00986212\n",
      "Iteration 79, loss = 0.00974794\n",
      "Iteration 80, loss = 0.00963664\n",
      "Iteration 81, loss = 0.00952814\n",
      "Iteration 82, loss = 0.00942226\n",
      "Iteration 83, loss = 0.00931890\n",
      "Iteration 84, loss = 0.00921806\n",
      "Iteration 85, loss = 0.00911944\n",
      "Iteration 86, loss = 0.00902302\n",
      "Iteration 87, loss = 0.00892878\n",
      "Iteration 88, loss = 0.00883659\n",
      "Iteration 89, loss = 0.00874638\n",
      "Iteration 90, loss = 0.00865812\n",
      "Iteration 91, loss = 0.00857166\n",
      "Iteration 92, loss = 0.00848700\n",
      "Iteration 93, loss = 0.00840407\n",
      "Iteration 94, loss = 0.00832279\n",
      "Iteration 95, loss = 0.00824313\n",
      "Training loss did not improve more than tol=0.000100 for 10 consecutive epochs. Stopping.\n",
      "Training set score: 1.000000\n",
      "Test set score: 1.000000\n"
     ]
    },
    {
     "data": {
      "text/plain": [
       "array([0, 1])"
      ]
     },
     "execution_count": 8,
     "metadata": {},
     "output_type": "execute_result"
    }
   ],
   "source": [
    "mlp = MLPClassifier(hidden_layer_sizes= (20, 3), max_iter= 150, alpha= 1e-4, solver= 'sgd', verbose= 10, tol= 1e-4, random_state= 1, learning_rate_init= 0.1)\n",
    "mlp.fit(learnset, learnlabels)\n",
    "\n",
    "print(\"Training set score: %f\" %mlp.score(learnset, learnlabels))\n",
    "print(\"Test set score: %f\" %mlp.score(learnset, learnlabels))\n",
    "\n",
    "mlp.classes_"
   ]
  },
  {
   "cell_type": "code",
   "execution_count": 10,
   "id": "7b668c04-6d6f-4ad8-8787-58c1e630f6cc",
   "metadata": {},
   "outputs": [
    {
     "data": {
      "text/plain": [
       "array([1, 0, 0, 0, 0, 0, 0, 1, 1, 0, 0, 1, 0, 1, 0, 1, 0, 0, 0, 0, 1, 0,\n",
       "       1, 1, 0, 0, 1, 0, 0, 1, 0, 1, 0, 1, 0, 1, 0, 1, 0, 1, 0, 0, 1, 0,\n",
       "       0, 1, 1, 0, 0, 0, 0, 1, 1, 1, 0, 0, 1, 0, 0, 0, 0, 1, 1, 0, 0, 1,\n",
       "       1, 0, 1, 0, 1, 0, 0, 0, 1, 0, 1, 1, 1, 0, 0, 1, 1, 0, 1, 0, 0, 0,\n",
       "       0, 0, 0, 1, 1, 0, 0, 0, 0, 0, 0, 1, 1, 1, 1, 0, 0, 0, 0, 0, 1, 0,\n",
       "       1, 1, 0, 1, 1, 0, 0, 0, 0, 1, 0, 0, 1, 1, 1, 1, 0, 1, 1, 1, 0, 0,\n",
       "       0, 0, 0, 1, 1, 0, 1, 0, 0, 0, 1, 1, 0, 1, 0, 1, 0, 0])"
      ]
     },
     "execution_count": 10,
     "metadata": {},
     "output_type": "execute_result"
    }
   ],
   "source": [
    "predictions = mlp.predict(test_set)\n",
    "predictions"
   ]
  },
  {
   "cell_type": "code",
   "execution_count": 11,
   "id": "ea9e3196-78b2-410f-b4bc-4ed69e83bde9",
   "metadata": {},
   "outputs": [
    {
     "data": {
      "text/plain": [
       "<matplotlib.collections.PathCollection at 0x2d73594b850>"
      ]
     },
     "execution_count": 11,
     "metadata": {},
     "output_type": "execute_result"
    },
    {
     "data": {
      "image/png": "[encoded data removed]",
      "text/plain": [
       "<Figure size 640x480 with 1 Axes>"
      ]
     },
     "metadata": {},
     "output_type": "display_data"
    }
   ],
   "source": [
    "testset = np.array(test_set)\n",
    "testset[predictions == 1]\n",
    "colors = ['#C0FFFF', '#FFC8C8']\n",
    "\n",
    "for i in range(2):\n",
    "    plt.scatter(X[i], Y[i], c = colors[i])\n",
    "\n",
    "colors = [\"r\", \"g\"]\n",
    "\n",
    "for i in range(2):\n",
    "    cls = testset[predictions == i]\n",
    "    Xt, Yt = zip(*cls)\n",
    "plt.scatter(Xt, Yt, c = colors[i])"
   ]
  },
  {
   "cell_type": "code",
   "execution_count": null,
   "id": "e7145df5-84e0-454d-a3f6-a29f46ce7486",
   "metadata": {},
   "outputs": [],
   "source": []
  }
 ],
 "metadata": {
  "kernelspec": {
   "display_name": "Python (vision)",
   "language": "python",
   "name": "vision"
  },
  "language_info": {
   "codemirror_mode": {
    "name": "ipython",
    "version": 3
   },
   "file_extension": ".py",
   "mimetype": "text/x-python",
   "name": "python",
   "nbconvert_exporter": "python",
   "pygments_lexer": "ipython3",
   "version": "3.10.13"
  }
 },
 "nbformat": 4,
 "nbformat_minor": 5
}
